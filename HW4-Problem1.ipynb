{
 "cells": [
  {
   "cell_type": "code",
   "execution_count": 19,
   "metadata": {},
   "outputs": [
    {
     "name": "stdout",
     "output_type": "stream",
     "text": [
      "Git: A version control tool.\n",
      "\n",
      "GitHub: A social wrapper for git.\n",
      "\n",
      "Repository: A central location where things are kept on GitHub.\n",
      "\n",
      "Cloning: Bringing a repository into your own environment.\n",
      "\n",
      "Forking: Creates your own version of a repository that you can make individual changes to.\n",
      "\n",
      "Command line: The interactive interpreter for your computer; the terminal\n",
      "\n",
      "Expression: The most basic kind of programming instruction\n",
      "\n",
      "Variable: Container you use to store information\n",
      "\n",
      "String: A combination of characters.\n",
      "\n",
      "Slicing: Allows you to segment part of the variable you are working on.\n",
      "\n",
      "Function: An argument or parameter that tells a function or method how to do its action, or what to do it to.\n",
      "\n",
      "If statement: Evaluates whether a statement is true or false, and runs code accordingly.\n",
      "\n",
      "Parameter: The variable inside a function.\n",
      "\n",
      "Argument: The value passed into the function\n",
      "\n",
      "Return value: Specifies if your function should output a value\n",
      "\n",
      "Docstring: Non-functional string that describes what your code does. Uses three quote marks.\n",
      "\n",
      "Comment: Non-functional addition that describes how your code works. Uses a hash mark.\n",
      "\n",
      "Local scope: Variables assigned normally to a function are only local to that function.\n",
      "\n",
      "Global scope: Variables assigned with a global function are useable outside of all functions.\n",
      "\n",
      "Main function: A central function required by many languages in order to execute a script. Useful in Python to add structural logic to code.\n",
      "\n",
      "List: Container that holds multiple pieces of information.\n",
      "\n",
      "Loop: Function to let you automate and repeat tasks in a short amount of time.\n",
      "\n",
      "Range: Creates a list of numbers that we can loop over.\n",
      "\n",
      "While loops: Basically a repeating conditional statement.\n",
      "\n",
      "Internet client: Requests information from a server.\n",
      "\n",
      "Internet server: A computer program or device that provides functionality for other programs or devices.\n",
      "\n",
      "pip: A tool used to download packages to Python.\n",
      "\n",
      "Dictionary: A collection of key and value pairs used to order information.\n",
      "\n",
      "Key: The first item in a key-value\n",
      "\n",
      "Linter: A tool that analyzes source code to flag errors and bugs.\n",
      "\n",
      "Package: A library of software and data that supports coding.\n",
      "\n",
      "Set: An unordered bag of values.\n",
      "\n",
      "Tuple: Unchangeable, prdered sequence of elements.\n",
      "\n",
      "Pandas: A Python library for flexible data structures.\n",
      "\n",
      "Virtual Environment: A fresh environment without some of the quirks from individual computers.\n",
      "\n",
      "Float: A numerical value with a decimal component\n",
      "\n"
     ]
    }
   ],
   "source": [
    "Python_concepts = {'Git': 'A version control tool.', 'GitHub': 'A social wrapper for git.', 'Repository': 'A central location where things are kept on GitHub.', 'Cloning': 'Bringing a repository into your own environment.', 'Forking': 'Creates your own version of a repository that you can make individual changes to.', 'Command line': 'The interactive interpreter for your computer; the terminal', 'Expression': 'The most basic kind of programming instruction', 'Variable': 'Container you use to store information', 'String': 'A combination of characters.', 'Slicing': 'Allows you to segment part of the variable you are working on.', 'Function': 'An argument or parameter that tells a function or method how to do its action, or what to do it to.', 'If statement': 'Evaluates whether a statement is true or false, and runs code accordingly.', 'Parameter': 'The variable inside a function.', 'Argument': 'The value passed into the function', 'Return value': 'Specifies if your function should output a value', 'Docstring': 'Non-functional string that describes what your code does. Uses three quote marks.', 'Comment': 'Non-functional addition that describes how your code works. Uses a hash mark.', 'Local scope': 'Variables assigned normally to a function are only local to that function.', 'Global scope': 'Variables assigned with a global function are useable outside of all functions.', 'Main function': 'A central function required by many languages in order to execute a script. Useful in Python to add structural logic to code.', 'List': 'Container that holds multiple pieces of information.', 'Loop': 'Function to let you automate and repeat tasks in a short amount of time.', 'Range': 'Creates a list of numbers that we can loop over.', 'While loops': 'Basically a repeating conditional statement.', 'Internet client': 'Requests information from a server.', 'Internet server': 'A computer program or device that provides functionality for other programs or devices.', 'pip': 'A tool used to download packages to Python.', 'Dictionary': 'A collection of key and value pairs used to order information.', 'Key': 'The first item in a key-value', 'Linter': 'A tool that analyzes source code to flag errors and bugs.', 'Package': 'A library of software and data that supports coding.', 'Set': 'An unordered bag of values.', 'Tuple': 'Unchangeable, prdered sequence of elements.', 'Pandas': 'A Python library for flexible data structures.', 'Virtual Environment': 'A fresh environment without some of the quirks from individual computers.', 'Float': 'A numerical value with a decimal component'}\n",
    "\n",
    "for key, value in Python_concepts.items():\n",
    "    print('{}: {}\\n'.format(key, value))"
   ]
  },
  {
   "cell_type": "code",
   "execution_count": null,
   "metadata": {},
   "outputs": [],
   "source": []
  }
 ],
 "metadata": {
  "kernelspec": {
   "display_name": "Python 3",
   "language": "python",
   "name": "python3"
  },
  "language_info": {
   "codemirror_mode": {
    "name": "ipython",
    "version": 3
   },
   "file_extension": ".py",
   "mimetype": "text/x-python",
   "name": "python",
   "nbconvert_exporter": "python",
   "pygments_lexer": "ipython3",
   "version": "3.6.5"
  }
 },
 "nbformat": 4,
 "nbformat_minor": 2
}
