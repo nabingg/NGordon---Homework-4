{
 "cells": [
  {
   "cell_type": "code",
   "execution_count": 12,
   "metadata": {},
   "outputs": [
    {
     "name": "stdout",
     "output_type": "stream",
     "text": [
      "This is a typical day in my life.\n",
      "\n",
      "-wake up\n",
      "-go to the gym\n",
      "-shower\n",
      "-get ready for work\n",
      "-leave for work\n",
      "-fight with the MTA\n",
      "-arrive at work\n",
      "-have breakfast\n",
      "-morning tasks\n",
      "-eat lunch\n",
      "-go outside for some sunlight\n",
      "-afternoon tasks\n",
      "-leave work\n",
      "-travel home\n",
      "-think about cooking\n",
      "-eat yogurt instead\n",
      "-read\n",
      "-code\n",
      "-go to sleep\n"
     ]
    }
   ],
   "source": [
    "daily_tasks = ('wake up', 'go to the gym', 'shower', 'get ready for work', 'leave for work', 'fight with the MTA', 'arrive at work', 'have breakfast', 'morning tasks', 'eat lunch', 'go outside for some sunlight', 'afternoon tasks', 'leave work', 'travel home', 'think about cooking', 'eat yogurt instead', 'read', 'code', 'go to sleep')\n",
    "\n",
    "print('This is a typical day in my life.\\n')\n",
    "for tasks in daily_tasks:\n",
    "    print('-{}'.format(tasks))"
   ]
  },
  {
   "cell_type": "code",
   "execution_count": null,
   "metadata": {},
   "outputs": [],
   "source": []
  }
 ],
 "metadata": {
  "kernelspec": {
   "display_name": "Python 3",
   "language": "python",
   "name": "python3"
  },
  "language_info": {
   "codemirror_mode": {
    "name": "ipython",
    "version": 3
   },
   "file_extension": ".py",
   "mimetype": "text/x-python",
   "name": "python",
   "nbconvert_exporter": "python",
   "pygments_lexer": "ipython3",
   "version": "3.6.5"
  }
 },
 "nbformat": 4,
 "nbformat_minor": 2
}
