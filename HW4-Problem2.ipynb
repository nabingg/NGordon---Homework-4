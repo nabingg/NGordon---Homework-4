{
 "cells": [
  {
   "cell_type": "code",
   "execution_count": 6,
   "metadata": {},
   "outputs": [
    {
     "data": {
      "text/plain": [
       "{'Rush Hour', 'The Lion King'}"
      ]
     },
     "execution_count": 6,
     "metadata": {},
     "output_type": "execute_result"
    }
   ],
   "source": [
    "Rebecca_movies = {'Dirty Dancing', 'The Chungking Express', 'The Lion King', 'Romeo and Juliet', 'Breathless', 'Memento', 'Rush Hour'}\n",
    "Tasha_movies = {'Beasts of the Southern Wild', 'Lord of the Rings', 'Howls Moving Castle', 'Rush Hour', 'The Lion King'}\n",
    "\n",
    "Rebecca_movies.intersection(Tasha_movies)"
   ]
  },
  {
   "cell_type": "code",
   "execution_count": 8,
   "metadata": {},
   "outputs": [
    {
     "data": {
      "text/plain": [
       "{'Beasts of the Southern Wild', 'Howls Moving Castle', 'Lord of the Rings'}"
      ]
     },
     "execution_count": 8,
     "metadata": {},
     "output_type": "execute_result"
    }
   ],
   "source": [
    "Tasha_movies.difference(Rebecca_movies)"
   ]
  },
  {
   "cell_type": "code",
   "execution_count": null,
   "metadata": {},
   "outputs": [],
   "source": []
  }
 ],
 "metadata": {
  "kernelspec": {
   "display_name": "Python 3",
   "language": "python",
   "name": "python3"
  },
  "language_info": {
   "codemirror_mode": {
    "name": "ipython",
    "version": 3
   },
   "file_extension": ".py",
   "mimetype": "text/x-python",
   "name": "python",
   "nbconvert_exporter": "python",
   "pygments_lexer": "ipython3",
   "version": "3.6.5"
  }
 },
 "nbformat": 4,
 "nbformat_minor": 2
}
